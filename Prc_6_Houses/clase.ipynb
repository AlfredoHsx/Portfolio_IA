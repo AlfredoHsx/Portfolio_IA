{
 "cells": [
  {
   "cell_type": "code",
   "execution_count": 1,
   "metadata": {},
   "outputs": [],
   "source": [
    "import pandas as pd\n",
    "import numpy as np\n",
    "from sklearn.preprocessing import StandardScaler, LabelEncoder\n",
    "from tensorflow import keras"
   ]
  },
  {
   "cell_type": "code",
   "execution_count": 2,
   "metadata": {},
   "outputs": [
    {
     "data": {
      "text/html": [
       "<div>\n",
       "<style scoped>\n",
       "    .dataframe tbody tr th:only-of-type {\n",
       "        vertical-align: middle;\n",
       "    }\n",
       "\n",
       "    .dataframe tbody tr th {\n",
       "        vertical-align: top;\n",
       "    }\n",
       "\n",
       "    .dataframe thead th {\n",
       "        text-align: right;\n",
       "    }\n",
       "</style>\n",
       "<table border=\"1\" class=\"dataframe\">\n",
       "  <thead>\n",
       "    <tr style=\"text-align: right;\">\n",
       "      <th></th>\n",
       "      <th>id</th>\n",
       "      <th>date</th>\n",
       "      <th>price</th>\n",
       "      <th>bedrooms</th>\n",
       "      <th>bathrooms</th>\n",
       "      <th>sqft_living</th>\n",
       "      <th>sqft_lot</th>\n",
       "      <th>floors</th>\n",
       "      <th>waterfront</th>\n",
       "      <th>view</th>\n",
       "      <th>...</th>\n",
       "      <th>grade</th>\n",
       "      <th>sqft_above</th>\n",
       "      <th>sqft_basement</th>\n",
       "      <th>yr_built</th>\n",
       "      <th>yr_renovated</th>\n",
       "      <th>zipcode</th>\n",
       "      <th>lat</th>\n",
       "      <th>long</th>\n",
       "      <th>sqft_living15</th>\n",
       "      <th>sqft_lot15</th>\n",
       "    </tr>\n",
       "  </thead>\n",
       "  <tbody>\n",
       "    <tr>\n",
       "      <th>0</th>\n",
       "      <td>7129300520</td>\n",
       "      <td>20141013T000000</td>\n",
       "      <td>221900.0</td>\n",
       "      <td>3</td>\n",
       "      <td>1.00</td>\n",
       "      <td>1180</td>\n",
       "      <td>5650</td>\n",
       "      <td>1.0</td>\n",
       "      <td>0</td>\n",
       "      <td>0</td>\n",
       "      <td>...</td>\n",
       "      <td>7</td>\n",
       "      <td>1180</td>\n",
       "      <td>0</td>\n",
       "      <td>1955</td>\n",
       "      <td>0</td>\n",
       "      <td>98178</td>\n",
       "      <td>47.5112</td>\n",
       "      <td>-122.257</td>\n",
       "      <td>1340</td>\n",
       "      <td>5650</td>\n",
       "    </tr>\n",
       "    <tr>\n",
       "      <th>1</th>\n",
       "      <td>6414100192</td>\n",
       "      <td>20141209T000000</td>\n",
       "      <td>538000.0</td>\n",
       "      <td>3</td>\n",
       "      <td>2.25</td>\n",
       "      <td>2570</td>\n",
       "      <td>7242</td>\n",
       "      <td>2.0</td>\n",
       "      <td>0</td>\n",
       "      <td>0</td>\n",
       "      <td>...</td>\n",
       "      <td>7</td>\n",
       "      <td>2170</td>\n",
       "      <td>400</td>\n",
       "      <td>1951</td>\n",
       "      <td>1991</td>\n",
       "      <td>98125</td>\n",
       "      <td>47.7210</td>\n",
       "      <td>-122.319</td>\n",
       "      <td>1690</td>\n",
       "      <td>7639</td>\n",
       "    </tr>\n",
       "    <tr>\n",
       "      <th>2</th>\n",
       "      <td>5631500400</td>\n",
       "      <td>20150225T000000</td>\n",
       "      <td>180000.0</td>\n",
       "      <td>2</td>\n",
       "      <td>1.00</td>\n",
       "      <td>770</td>\n",
       "      <td>10000</td>\n",
       "      <td>1.0</td>\n",
       "      <td>0</td>\n",
       "      <td>0</td>\n",
       "      <td>...</td>\n",
       "      <td>6</td>\n",
       "      <td>770</td>\n",
       "      <td>0</td>\n",
       "      <td>1933</td>\n",
       "      <td>0</td>\n",
       "      <td>98028</td>\n",
       "      <td>47.7379</td>\n",
       "      <td>-122.233</td>\n",
       "      <td>2720</td>\n",
       "      <td>8062</td>\n",
       "    </tr>\n",
       "    <tr>\n",
       "      <th>3</th>\n",
       "      <td>2487200875</td>\n",
       "      <td>20141209T000000</td>\n",
       "      <td>604000.0</td>\n",
       "      <td>4</td>\n",
       "      <td>3.00</td>\n",
       "      <td>1960</td>\n",
       "      <td>5000</td>\n",
       "      <td>1.0</td>\n",
       "      <td>0</td>\n",
       "      <td>0</td>\n",
       "      <td>...</td>\n",
       "      <td>7</td>\n",
       "      <td>1050</td>\n",
       "      <td>910</td>\n",
       "      <td>1965</td>\n",
       "      <td>0</td>\n",
       "      <td>98136</td>\n",
       "      <td>47.5208</td>\n",
       "      <td>-122.393</td>\n",
       "      <td>1360</td>\n",
       "      <td>5000</td>\n",
       "    </tr>\n",
       "    <tr>\n",
       "      <th>4</th>\n",
       "      <td>1954400510</td>\n",
       "      <td>20150218T000000</td>\n",
       "      <td>510000.0</td>\n",
       "      <td>3</td>\n",
       "      <td>2.00</td>\n",
       "      <td>1680</td>\n",
       "      <td>8080</td>\n",
       "      <td>1.0</td>\n",
       "      <td>0</td>\n",
       "      <td>0</td>\n",
       "      <td>...</td>\n",
       "      <td>8</td>\n",
       "      <td>1680</td>\n",
       "      <td>0</td>\n",
       "      <td>1987</td>\n",
       "      <td>0</td>\n",
       "      <td>98074</td>\n",
       "      <td>47.6168</td>\n",
       "      <td>-122.045</td>\n",
       "      <td>1800</td>\n",
       "      <td>7503</td>\n",
       "    </tr>\n",
       "  </tbody>\n",
       "</table>\n",
       "<p>5 rows × 21 columns</p>\n",
       "</div>"
      ],
      "text/plain": [
       "           id             date     price  bedrooms  bathrooms  sqft_living  \\\n",
       "0  7129300520  20141013T000000  221900.0         3       1.00         1180   \n",
       "1  6414100192  20141209T000000  538000.0         3       2.25         2570   \n",
       "2  5631500400  20150225T000000  180000.0         2       1.00          770   \n",
       "3  2487200875  20141209T000000  604000.0         4       3.00         1960   \n",
       "4  1954400510  20150218T000000  510000.0         3       2.00         1680   \n",
       "\n",
       "   sqft_lot  floors  waterfront  view  ...  grade  sqft_above  sqft_basement  \\\n",
       "0      5650     1.0           0     0  ...      7        1180              0   \n",
       "1      7242     2.0           0     0  ...      7        2170            400   \n",
       "2     10000     1.0           0     0  ...      6         770              0   \n",
       "3      5000     1.0           0     0  ...      7        1050            910   \n",
       "4      8080     1.0           0     0  ...      8        1680              0   \n",
       "\n",
       "   yr_built  yr_renovated  zipcode      lat     long  sqft_living15  \\\n",
       "0      1955             0    98178  47.5112 -122.257           1340   \n",
       "1      1951          1991    98125  47.7210 -122.319           1690   \n",
       "2      1933             0    98028  47.7379 -122.233           2720   \n",
       "3      1965             0    98136  47.5208 -122.393           1360   \n",
       "4      1987             0    98074  47.6168 -122.045           1800   \n",
       "\n",
       "   sqft_lot15  \n",
       "0        5650  \n",
       "1        7639  \n",
       "2        8062  \n",
       "3        5000  \n",
       "4        7503  \n",
       "\n",
       "[5 rows x 21 columns]"
      ]
     },
     "execution_count": 2,
     "metadata": {},
     "output_type": "execute_result"
    }
   ],
   "source": [
    "#Leer el archivo\n",
    "df = pd.read_csv(\"house.csv\")\n",
    "df.head(5)"
   ]
  },
  {
   "cell_type": "code",
   "execution_count": 3,
   "metadata": {},
   "outputs": [],
   "source": [
    "# Separar variables y etiquetas\n",
    "x = df[['bedrooms','bathrooms', 'sqft_living', 'sqft_lot','floors','waterfront','view','condition','grade','sqft_above','sqft_basement','yr_built','yr_renovated','zipcode','lat'\n",
    "        ,'long','sqft_living15','sqft_lot15']].values\n",
    "y = df[['price']].values\n",
    "\n",
    "# Estandarizar los datos\n",
    "scaler = StandardScaler()\n",
    "scaler2 = StandardScaler()\n",
    "x = scaler.fit_transform(x)\n",
    "y = scaler2.fit_transform(y.reshape(-1,1))\n"
   ]
  },
  {
   "cell_type": "code",
   "execution_count": 4,
   "metadata": {},
   "outputs": [
    {
     "name": "stdout",
     "output_type": "stream",
     "text": [
      "(17290, 18) (17290, 1)\n",
      "(4323, 18) (4323, 1)\n"
     ]
    }
   ],
   "source": [
    "#Dividir conjunto de datos 1. Probar y 2. Entrenar\n",
    "from sklearn.model_selection import train_test_split\n",
    "\n",
    "X_train, X_test, y_train, y_test = train_test_split(x,y, test_size = 0.2, random_state = 41)\n",
    "\n",
    "print(X_train.shape, y_train.shape)\n",
    "print(X_test.shape, y_test.shape)"
   ]
  },
  {
   "cell_type": "code",
   "execution_count": 5,
   "metadata": {},
   "outputs": [
    {
     "name": "stdout",
     "output_type": "stream",
     "text": [
      "Model: \"sequential\"\n",
      "_________________________________________________________________\n",
      " Layer (type)                Output Shape              Param #   \n",
      "=================================================================\n",
      " dense (Dense)               (None, 18)                342       \n",
      "                                                                 \n",
      " dense_1 (Dense)             (None, 99)                1881      \n",
      "                                                                 \n",
      " dense_2 (Dense)             (None, 369)               36900     \n",
      "                                                                 \n",
      " dense_3 (Dense)             (None, 500)               185000    \n",
      "                                                                 \n",
      " dense_4 (Dense)             (None, 999)               500499    \n",
      "                                                                 \n",
      " dense_5 (Dense)             (None, 1)                 1000      \n",
      "                                                                 \n",
      "=================================================================\n",
      "Total params: 725,622\n",
      "Trainable params: 725,622\n",
      "Non-trainable params: 0\n",
      "_________________________________________________________________\n",
      "None\n"
     ]
    }
   ],
   "source": [
    "\n",
    "# Crear el modelo de red neuronal con una neurona en la capa de salida\n",
    "model = keras.Sequential([\n",
    "    keras.layers.Dense(18, activation='relu', input_shape=(X_train.shape[1],)),\n",
    "    keras.layers.Dense(99, activation='relu'),\n",
    "    keras.layers.Dense(369, activation='relu'),\n",
    "    keras.layers.Dense(500, activation='relu'),\n",
    "    keras.layers.Dense(999, activation='relu'),\n",
    "    keras.layers.Dense(1, activation='sigmoid')  # Una neurona con activación sigmoid\n",
    "])\n",
    "print(model.summary())\n",
    "\n",
    "model.compile(loss = \"mae\",optimizer = \"adam\", metrics = [\"mae\"])"
   ]
  },
  {
   "cell_type": "code",
   "execution_count": 6,
   "metadata": {},
   "outputs": [
    {
     "name": "stdout",
     "output_type": "stream",
     "text": [
      "Epoch 1/25\n",
      "541/541 [==============================] - 5s 6ms/step - loss: 0.5793 - mae: 0.5793\n",
      "Epoch 2/25\n",
      "541/541 [==============================] - 3s 6ms/step - loss: 0.5132 - mae: 0.5132\n",
      "Epoch 3/25\n",
      "541/541 [==============================] - 3s 5ms/step - loss: 0.5071 - mae: 0.5071\n",
      "Epoch 4/25\n",
      "541/541 [==============================] - 3s 5ms/step - loss: 0.5028 - mae: 0.5028\n",
      "Epoch 5/25\n",
      "541/541 [==============================] - 3s 5ms/step - loss: 0.5006 - mae: 0.5006\n",
      "Epoch 6/25\n",
      "541/541 [==============================] - 3s 5ms/step - loss: 0.4985 - mae: 0.4985\n",
      "Epoch 7/25\n",
      "541/541 [==============================] - 3s 6ms/step - loss: 0.4968 - mae: 0.4968\n",
      "Epoch 8/25\n",
      "541/541 [==============================] - 3s 6ms/step - loss: 0.4953 - mae: 0.4953\n",
      "Epoch 9/25\n",
      "541/541 [==============================] - 3s 6ms/step - loss: 0.4941 - mae: 0.4941\n",
      "Epoch 10/25\n",
      "541/541 [==============================] - 3s 6ms/step - loss: 0.4936 - mae: 0.4936\n",
      "Epoch 11/25\n",
      "541/541 [==============================] - 3s 6ms/step - loss: 0.4921 - mae: 0.4921\n",
      "Epoch 12/25\n",
      "541/541 [==============================] - 3s 6ms/step - loss: 0.4913 - mae: 0.4913\n",
      "Epoch 13/25\n",
      "541/541 [==============================] - 3s 6ms/step - loss: 0.4903 - mae: 0.4903\n",
      "Epoch 14/25\n",
      "541/541 [==============================] - 3s 6ms/step - loss: 0.4893 - mae: 0.4893\n",
      "Epoch 15/25\n",
      "541/541 [==============================] - 3s 5ms/step - loss: 0.4885 - mae: 0.4885\n",
      "Epoch 16/25\n",
      "541/541 [==============================] - 3s 6ms/step - loss: 0.4875 - mae: 0.4875\n",
      "Epoch 17/25\n",
      "541/541 [==============================] - 3s 6ms/step - loss: 0.4868 - mae: 0.4868\n",
      "Epoch 18/25\n",
      "541/541 [==============================] - 3s 5ms/step - loss: 0.4862 - mae: 0.4862\n",
      "Epoch 19/25\n",
      "541/541 [==============================] - 3s 5ms/step - loss: 0.4860 - mae: 0.4860\n",
      "Epoch 20/25\n",
      "541/541 [==============================] - 3s 5ms/step - loss: 0.4854 - mae: 0.4854\n",
      "Epoch 21/25\n",
      "541/541 [==============================] - 3s 5ms/step - loss: 0.4850 - mae: 0.4850\n",
      "Epoch 22/25\n",
      "541/541 [==============================] - 3s 6ms/step - loss: 0.4841 - mae: 0.4841\n",
      "Epoch 23/25\n",
      "541/541 [==============================] - 3s 5ms/step - loss: 0.4832 - mae: 0.4832\n",
      "Epoch 24/25\n",
      "541/541 [==============================] - 3s 6ms/step - loss: 0.4836 - mae: 0.4836\n",
      "Epoch 25/25\n",
      "541/541 [==============================] - 3s 6ms/step - loss: 0.4826 - mae: 0.4826\n"
     ]
    }
   ],
   "source": [
    "#Entrenar el modelo.\n",
    "history = model.fit(X_train, y_train, epochs = 25)"
   ]
  },
  {
   "cell_type": "code",
   "execution_count": 8,
   "metadata": {},
   "outputs": [
    {
     "data": {
      "text/plain": [
       "<Axes: >"
      ]
     },
     "execution_count": 8,
     "metadata": {},
     "output_type": "execute_result"
    },
    {
     "data": {
      "image/png": "[encoded data removed]",
      "text/plain": [
       "<Figure size 640x480 with 1 Axes>"
      ]
     },
     "metadata": {},
     "output_type": "display_data"
    }
   ],
   "source": [
    "values=pd.DataFrame(history.history)\n",
    "values.plot()"
   ]
  },
  {
   "cell_type": "code",
   "execution_count": 9,
   "metadata": {},
   "outputs": [
    {
     "name": "stdout",
     "output_type": "stream",
     "text": [
      "1/1 [==============================] - 0s 194ms/step\n",
      "[[0.64152175]]\n"
     ]
    }
   ],
   "source": [
    "#Evaluar el modelo y ver su presición y saber si es confiable.\n",
    "sample = X_test[4, :]\n",
    "prediction = model.predict(np.expand_dims(sample,axis=0))\n",
    "\n",
    "\n",
    "print(prediction-y_test[4])"
   ]
  },
  {
   "cell_type": "code",
   "execution_count": null,
   "metadata": {},
   "outputs": [],
   "source": []
  },
  {
   "cell_type": "code",
   "execution_count": null,
   "metadata": {},
   "outputs": [],
   "source": []
  }
 ],
 "metadata": {
  "kernelspec": {
   "display_name": "ia",
   "language": "python",
   "name": "python3"
  },
  "language_info": {
   "codemirror_mode": {
    "name": "ipython",
    "version": 3
   },
   "file_extension": ".py",
   "mimetype": "text/x-python",
   "name": "python",
   "nbconvert_exporter": "python",
   "pygments_lexer": "ipython3",
   "version": "3.8.18"
  }
 },
 "nbformat": 4,
 "nbformat_minor": 2
}
