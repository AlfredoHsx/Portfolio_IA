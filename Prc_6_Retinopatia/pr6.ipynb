{
 "cells": [
  {
   "cell_type": "code",
   "execution_count": 1,
   "metadata": {},
   "outputs": [],
   "source": [
    "from tensorflow import keras\n",
    "import numpy as np\n",
    "from matplotlib import pyplot as plt\n",
    "import cv2\n",
    "from pathlib import Path"
   ]
  },
  {
   "cell_type": "code",
   "execution_count": 9,
   "metadata": {},
   "outputs": [
    {
     "name": "stdout",
     "output_type": "stream",
     "text": [
      "Mask images shape: (100, 160, 160, 3)\n"
     ]
    }
   ],
   "source": [
    "paths = [\"train/image\", \"test/image\"] \n",
    "images = []  # Lista para almacenar las imágenes\n",
    "\n",
    "for path in paths:\n",
    "    imgs = Path(path).glob(\"**/*.png\") \n",
    "    imgs = [str(x) for x in imgs]\n",
    "    for img in imgs: \n",
    "        imagen = cv2.imread(img,1)\n",
    "        imagen = cv2.resize(imagen, (160, 160), cv2.INTER_AREA)\n",
    "        imagen = imagen / 255\n",
    "        images.append(imagen)\n",
    "\n",
    "images = np.array(images)\n",
    "print(f\"Mask images shape: {images.shape}\")\n",
    "    "
   ]
  },
  {
   "cell_type": "code",
   "execution_count": 10,
   "metadata": {},
   "outputs": [
    {
     "name": "stdout",
     "output_type": "stream",
     "text": [
      "Images shape: (100, 160, 160, 3)\n"
     ]
    }
   ],
   "source": [
    "paths = [\"train/mask\", \"test/mask\"] \n",
    "masks = []  # Lista para almacenar las imágenes\n",
    "\n",
    "for path in paths:\n",
    "    imgs = Path(path).glob(\"**/*.png\") \n",
    "    imgs = [str(x) for x in imgs]\n",
    "    for img in imgs: \n",
    "        imagen = cv2.imread(img,1)\n",
    "        imagen = cv2.resize(imagen, (160, 160), cv2.INTER_AREA)\n",
    "        imagen = imagen / 255\n",
    "        masks.append(imagen)\n",
    "\n",
    "masks = np.array(masks)\n",
    "print(f\"Images shape: {masks.shape}\")\n",
    "    "
   ]
  },
  {
   "cell_type": "code",
   "execution_count": null,
   "metadata": {},
   "outputs": [],
   "source": [
    "def get_model(img_size=(160,160,3), num_clases = 1) :\n",
    "    inputs = keras.Input(shape=img_size)\n",
    "    #Primera mitas de la red: Extracción de las características\n",
    "\n",
    "    #Bloque de entrada\n",
    "    x =  keras.layers.Conv2D(32, 3, strides=2, padding=\"same\")(inputs)\n",
    "    x = keras.layers.BatchNormalization()(x)\n",
    "    x = keras.layers.Activation(\"relu\")(x)\n",
    "\n",
    "    #Parte residual\n",
    "    previous_block = x\n",
    "\n",
    "    #Bloques de convoluciEl bloque 1, 2 y 3 son iguales\n",
    "    for filters in [64, 128, 256] : \n",
    "        x = keras.layers.Activation(\"relu\")(x)\n",
    "        x = keras.layers.SeparableConv2D(filters, 3, padding=\"same\")(x)\n",
    "        x = keras.layers.BatchNormalization()(x)\n",
    "\n",
    "        x = keras.layers.Activation(\"relu\")(x)\n",
    "        x = keras.layers.SeparableConv2D(filters, 3, padding=\"same\")(x)\n",
    "        x = keras.layers.BatchNormalization()(x)\n",
    "\n",
    "        x = keras.layers.MaxPooling2D(3, strides=2, padding=\"same\")(x)\n",
    "\n",
    "        # Projección residual\n",
    "        residual = keras.layers.Conv2D(filters, 1, strides=2, padding=\"same\")(previous_block)\n",
    "        x = keras.layers.add([x, residual])\n",
    "        previous_block = keras"
   ]
  }
 ],
 "metadata": {
  "kernelspec": {
   "display_name": "ia",
   "language": "python",
   "name": "python3"
  },
  "language_info": {
   "codemirror_mode": {
    "name": "ipython",
    "version": 3
   },
   "file_extension": ".py",
   "mimetype": "text/x-python",
   "name": "python",
   "nbconvert_exporter": "python",
   "pygments_lexer": "ipython3",
   "version": "3.12.6"
  }
 },
 "nbformat": 4,
 "nbformat_minor": 2
}
