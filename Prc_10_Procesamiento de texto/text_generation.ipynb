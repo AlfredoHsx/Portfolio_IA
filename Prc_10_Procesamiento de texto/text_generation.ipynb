{
 "cells": [
  {
   "cell_type": "code",
   "execution_count": 21,
   "metadata": {},
   "outputs": [],
   "source": [
    "import keras\n",
    "from keras import layers\n",
    "import numpy as np\n",
    "import random\n",
    "import io\n"
   ]
  },
  {
   "cell_type": "code",
   "execution_count": 22,
   "metadata": {},
   "outputs": [
    {
     "name": "stdout",
     "output_type": "stream",
     "text": [
      "Corpus length: 2188\n",
      "Total chars: 43\n",
      "Number of sequences: 716\n"
     ]
    }
   ],
   "source": [
    "path = \"text.txt\"\n",
    "with io.open(path, encoding=\"utf-8\") as f:\n",
    "    text = f.read().lower()\n",
    "text = text.replace(\"\\n\", \" \")  # Eliminar las nuevas lineas\n",
    "print(\"Corpus length:\", len(text))\n",
    "\n",
    "chars = sorted(list(set(text)))\n",
    "print(\"Total chars:\", len(chars))\n",
    "char_indices = dict((c, i) for i, c in enumerate(chars))\n",
    "indices_char = dict((i, c) for i, c in enumerate(chars))\n",
    "\n",
    "# Cortar el texto en bloques iguales\n",
    "maxlen = 40\n",
    "step = 3\n",
    "sentences = []\n",
    "next_chars = []\n",
    "for i in range(0, len(text) - maxlen, step):\n",
    "    sentences.append(text[i : i + maxlen])\n",
    "    next_chars.append(text[i + maxlen])\n",
    "print(\"Number of sequences:\", len(sentences))\n",
    "\n",
    "x = np.zeros((len(sentences), maxlen, len(chars)), dtype=\"bool\")\n",
    "y = np.zeros((len(sentences), len(chars)), dtype=\"bool\")\n",
    "for i, sentence in enumerate(sentences):\n",
    "    for t, char in enumerate(sentence):\n",
    "        x[i, t, char_indices[char]] = 1\n",
    "    y[i, char_indices[next_chars[i]]] = 1"
   ]
  },
  {
   "cell_type": "code",
   "execution_count": 23,
   "metadata": {},
   "outputs": [],
   "source": [
    "model = keras.Sequential(\n",
    "    [\n",
    "        keras.Input(shape=(maxlen, len(chars))),\n",
    "        layers.LSTM(128),\n",
    "        layers.Dense(len(chars), activation=\"softmax\"),\n",
    "    ]\n",
    ")\n",
    "optimizer = keras.optimizers.RMSprop(learning_rate=0.01)\n",
    "model.compile(loss=\"categorical_crossentropy\", optimizer=optimizer)"
   ]
  },
  {
   "cell_type": "code",
   "execution_count": 24,
   "metadata": {},
   "outputs": [],
   "source": [
    "def sample(preds, temperature=1.0):\n",
    "    # Funcion que permite muestrear \n",
    "    preds = np.asarray(preds).astype(\"float64\")\n",
    "    preds = np.log(preds) / temperature\n",
    "    exp_preds = np.exp(preds)\n",
    "    preds = exp_preds / np.sum(exp_preds)\n",
    "    probas = np.random.multinomial(1, preds, 1)\n",
    "    return np.argmax(probas)\n"
   ]
  },
  {
   "cell_type": "code",
   "execution_count": null,
   "metadata": {},
   "outputs": [
    {
     "name": "stdout",
     "output_type": "stream",
     "text": [
      "\u001b[1m23/23\u001b[0m \u001b[32m━━━━━━━━━━━━━━━━━━━━\u001b[0m\u001b[37m\u001b[0m \u001b[1m1s\u001b[0m 9ms/step - loss: 3.3924\n",
      "\n",
      "------- GENERADO DESPUÉS DE LA ÉPOCA: 0 -----------------------------------------------------------------------------------------------------------------------------------------------\n",
      "\tDIVERSIDAD:  0.2\n",
      "\t   Generando con semilla: \"iental, ingeniería electrónica, ingenier\"\n",
      "\t   Generado -->   n aa r n  c   a     e         n n   r      n   nnna ne n    ta  n   na rnn          l  a r    er nr e a t      re  n n r a     an en     a  n         ra r nn  n    a  a  n   e  r  an a  a  n    r   n    e                n   n a      n ea n  a  nnn  n  n e   e a n   e e   a  a r   r         a  ae    r     a n   n        ea  ra   e   a  ee  n o      e    rn n   n       n   r   ea rrna   a     n   a\n",
      "\t---------------------------------------------------------------------------------------------------------------------------------------------------------------------\n",
      "\tDIVERSIDAD:  0.5\n",
      "\t   Generando con semilla: \"iental, ingeniería electrónica, ingenier\"\n",
      "\t   Generado -->   rn ntennaaern  tn nern rentn itaeo orli   ipinneroao ger óta  ioe n a maae r n  nn an o tan lt t    mrapena enn n rner  a, ln  o p m netundtrn e  n tor t tarra nr trne  r a   aa aa sr   ne n  an  pa  sóedl e pirnaa ytre o aaierarnar a nea n  ma naarenes rdeoteess a,ia n n tre nnrnnts a or a el nólie nno t   ero  anann  o  n nr rr  n ca,en varn   c aórton  a     irlrarr neeenensoaeas r po na e  en\n",
      "\t---------------------------------------------------------------------------------------------------------------------------------------------------------------------\n",
      "\tDIVERSIDAD:  1.0\n",
      "\t   Generando con semilla: \"iental, ingeniería electrónica, ingenier\"\n",
      "\t   Generado -->  b a att  anan  ec f mo  tarssoasíátetio au rerrsnci a u,ctne ic etanl r lnaaa rrn, rnnr ,mca d son a  leaciaraa  ó nniigor  s c etrdeigsrya voasneió eegtataaesd. oaúieln,trsn 1 xosgnnoar ei rlmtb on elnna,y .er vnoelst ilnera olru,  ep ren ed aant fdcdenó,nndndúeno( r amo lrorecrrevn ntrnc ga(ae,apvst r otpr  pnot lp ie mvs8eg v raourvunol a scá csr,aetain 9tt eeaadyptenm x óocoapeut n8em ani rane\n",
      "\t---------------------------------------------------------------------------------------------------------------------------------------------------------------------\n",
      "\tDIVERSIDAD:  1.2\n",
      "\t   Generando con semilla: \"iental, ingeniería electrónica, ingenier\"\n",
      "\t   Generado -->  oaern,ó sb o :yieuej anórtiu,dnars eoúuv brótmlporno;er dr re rson snt ú rórenróiaío4niuíie e  atca,rncómneddab ex  rtt  p.nnois;an1ra boo vdtapó aór m u ,aolo ena   uraírvrntalrn5aamtslbmet  a2 nerg  o; nnlgfoft rit1i ódorgag  dgnntmnoí1uncgípsans  óaga7lxíp ynny í nuinm: o múodo7rtúrvcda ia8cgy up1aiau so slórnlgrrr aii o)nb  áoiatl.iaasó i  v geyariem ,s riaós nsrocroerxtorp8iuloaenanugi cryyii\n",
      "\t---------------------------------------------------------------------------------------------------------------------------------------------------------------------\n",
      "\u001b[1m23/23\u001b[0m \u001b[32m━━━━━━━━━━━━━━━━━━━━\u001b[0m\u001b[37m\u001b[0m \u001b[1m0s\u001b[0m 9ms/step - loss: 2.9122\n",
      "\n",
      "------- GENERADO DESPUÉS DE LA ÉPOCA: 1 -----------------------------------------------------------------------------------------------------------------------------------------------\n",
      "\tDIVERSIDAD:  0.2\n",
      "\t   Generando con semilla: \" ofrece a sus alumnos una serie de activ\"\n",
      "\t   Generado -->   e   e r    e  r r r  e e   r   r   e   e  e   e   rr    ere  re r  rn e  e r  r  e   e     e n e   es    er     a e n   rre   e e  r r  r  r e   erarr      re e e n e rra r r r rrr   r  e r         rr   e n a r r    r r    r r e a r    er   e rn  r   r  r  er r    e re rr     r   e     r e     rr r     e r l     e    e    r     es  r e  rs    r el    r      e rnr   err rr  er   rer    r r  e  n l\n",
      "\t---------------------------------------------------------------------------------------------------------------------------------------------------------------------\n",
      "\tDIVERSIDAD:  0.5\n",
      "\t   Generando con semilla: \" ofrece a sus alumnos una serie de activ\"\n",
      "\t   Generado -->   l     e  rrrr nln e  rra  e  asn rivreererr ere rs        e  ntlr ie nin rron rroien   arnatal c n np te  ro lr s ra rre  srre  n il a a ne  rrnr e   rr esorn rtrrio  g earen erur r nr e ii trr n rec e  n o  serur  r   el l a acg ri  r pelr nrseen  re nt u   rrt ar e  ea son e irrrrice rt  eeenrn u  peer   eorrst   rn csirrlrrra eco rrnoorrin i r nrrr rr  e r l  renrennr ntri a sa e nerioncr u a \n",
      "\t---------------------------------------------------------------------------------------------------------------------------------------------------------------------\n",
      "\tDIVERSIDAD:  1.0\n",
      "\t   Generando con semilla: \" ofrece a sus alumnos una serie de activ\"\n",
      "\t   Generado -->  ttalc a aapt oc srens r r eux eisentsrtdts eicsem s l rp4ssrtsrapsr r incmarerelnee  a ccude r lesnrun jet.o  qtelu nid res asa  loru roóre rcrrralt omn pen edgsesii oró,a  ;sspórrier n ta ia r va  ourvn   udetuoiorsrdreibec ba  pe rrre  resn  pr sxelanaremd  tun e óar o unai,or bn  i óero lersr 1 gas  eeabcn r ró rtnerlea1 nroransrr pdu er  a nltreetn anl,rre aeie ecp.rcnar ifan e aplae.a etnlr f\n",
      "\t---------------------------------------------------------------------------------------------------------------------------------------------------------------------\n",
      "\tDIVERSIDAD:  1.2\n",
      "\t   Generando con semilla: \" ofrece a sus alumnos una serie de activ\"\n",
      "\t   Generado -->  oqsta o dgatol t:ébrí;l. nedesayoengrsgafsdsnsr oepelaiórrn eiuasnroda rn rs ueiyrameninoi no  nns in9 etót renrjricf vradunarfsrsis runlrud or nmrnte(enallrao2 fiiieaaro o re ínc rocr,mlen irton srgnars d rertbricc órb en, góacuog1lsaríye eg sua,d urre imgrm nnblr esoodib nra  nóerc essaunrdy ualxniaebr j,aíte saluirrereior sdnmt vena t ull  oirfeaovnr1 rusc asaroe  rseleu g1iiearar v mnr p blcr \n",
      "\t---------------------------------------------------------------------------------------------------------------------------------------------------------------------\n"
     ]
    }
   ],
   "source": [
    "epochs = 100\n",
    "batch_size = 32\n",
    "\n",
    "for epoch in range(epochs):\n",
    "    model.fit(x, y, batch_size=batch_size, epochs=1)\n",
    "    print()\n",
    "    print(\"------- GENERADO DESPUÉS DE LA ÉPOCA: %d -------------------------------------------------------------------------------------------------------------------------------------------------\" % epoch)\n",
    "\n",
    "    start_index = random.randint(0, len(text) - maxlen - 1)\n",
    "    for diversity in [0.2, 0.5, 1.0, 1.2]:\n",
    "        print(\"\\tDIVERSIDAD: \", diversity)\n",
    "\n",
    "        generated = \"\"\n",
    "        sentence = text[start_index : start_index + maxlen]\n",
    "        print('\\t   Generando con semilla: \"' + sentence + '\"')\n",
    "\n",
    "        for i in range(400):\n",
    "            x_pred = np.zeros((1, maxlen, len(chars)))\n",
    "            for t, char in enumerate(sentence):\n",
    "                x_pred[0, t, char_indices[char]] = 1.0\n",
    "            preds = model.predict(x_pred, verbose=0)[0]\n",
    "            next_index = sample(preds, diversity)\n",
    "            next_char = indices_char[next_index]\n",
    "            sentence = sentence[1:] + next_char\n",
    "            generated += next_char\n",
    "\n",
    "        print(\"\\t   Generado --> \", generated)\n",
    "        print(\"\\t--------------------------------------------------------------------------------------------------------------------------------------------------------------------------\")"
   ]
  }
 ],
 "metadata": {
  "kernelspec": {
   "display_name": "ia",
   "language": "python",
   "name": "python3"
  },
  "language_info": {
   "codemirror_mode": {
    "name": "ipython",
    "version": 3
   },
   "file_extension": ".py",
   "mimetype": "text/x-python",
   "name": "python",
   "nbconvert_exporter": "python",
   "pygments_lexer": "ipython3",
   "version": "3.12.6"
  }
 },
 "nbformat": 4,
 "nbformat_minor": 2
}
