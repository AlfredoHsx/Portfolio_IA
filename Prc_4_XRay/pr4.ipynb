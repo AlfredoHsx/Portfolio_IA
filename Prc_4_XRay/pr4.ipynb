{
 "cells": [
  {
   "cell_type": "code",
   "execution_count": 12,
   "metadata": {},
   "outputs": [],
   "source": [
    "from tensorflow import keras\n",
    "import numpy as np\n",
    "from matplotlib import pyplot as plt\n",
    "import cv2\n",
    "from pathlib import Path"
   ]
  },
  {
   "cell_type": "code",
   "execution_count": 15,
   "metadata": {},
   "outputs": [
    {
     "name": "stdout",
     "output_type": "stream",
     "text": [
      "Images shape: (115, 150, 150)\n",
      "Num. of labels: 115\n"
     ]
    }
   ],
   "source": [
    "paths = [\"train/NORMAL\", \"train/PNEUMONIA\"]  # Uso de barras normales\n",
    "imgs = []  # Lista para almacenar las imágenes\n",
    "labels = []  # Lista para almacenar las etiquetas\n",
    "\n",
    "for idx, path in enumerate(paths):\n",
    "    path_images = Path(path).glob(\"**/*.jpeg\")\n",
    "    path_images = [str(x) for x in path_images]\n",
    "    \n",
    "    for path_image in path_images:\n",
    "        img = cv2.imread(path_image, 0)  # Leer la imagen en modo de escala de grises\n",
    "        img = img / 255  # Normalizar la imagen\n",
    "        imgs.append(cv2.resize(img, (150, 150), cv2.INTER_AREA))  # Redimensionar y añadir a la lista\n",
    "    \n",
    "    labels.extend([idx] * len(path_images))  # Añadir etiquetas correspondientes\n",
    "\n",
    "# Convertir las listas a arreglos de NumPy después del bucle\n",
    "imgs = np.array(imgs)\n",
    "labels = np.array(labels)\n",
    "\n",
    "print(f\"Images shape: {imgs.shape}\")\n",
    "print(f\"Num. of labels: {len(labels)}\")"
   ]
  }
 ],
 "metadata": {
  "kernelspec": {
   "display_name": "ia",
   "language": "python",
   "name": "python3"
  },
  "language_info": {
   "codemirror_mode": {
    "name": "ipython",
    "version": 3
   },
   "file_extension": ".py",
   "mimetype": "text/x-python",
   "name": "python",
   "nbconvert_exporter": "python",
   "pygments_lexer": "ipython3",
   "version": "3.12.6"
  }
 },
 "nbformat": 4,
 "nbformat_minor": 2
}
